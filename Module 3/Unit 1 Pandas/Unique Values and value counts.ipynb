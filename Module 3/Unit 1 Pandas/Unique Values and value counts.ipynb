{
 "cells": [
  {
   "cell_type": "code",
   "execution_count": 9,
   "id": "d2fb441d",
   "metadata": {},
   "outputs": [
    {
     "data": {
      "text/html": [
       "<div>\n",
       "<style scoped>\n",
       "    .dataframe tbody tr th:only-of-type {\n",
       "        vertical-align: middle;\n",
       "    }\n",
       "\n",
       "    .dataframe tbody tr th {\n",
       "        vertical-align: top;\n",
       "    }\n",
       "\n",
       "    .dataframe thead th {\n",
       "        text-align: right;\n",
       "    }\n",
       "</style>\n",
       "<table border=\"1\" class=\"dataframe\">\n",
       "  <thead>\n",
       "    <tr style=\"text-align: right;\">\n",
       "      <th></th>\n",
       "      <th>Model</th>\n",
       "      <th>Gear</th>\n",
       "      <th>Cylinder</th>\n",
       "    </tr>\n",
       "  </thead>\n",
       "  <tbody>\n",
       "    <tr>\n",
       "      <th>0</th>\n",
       "      <td>Valiant</td>\n",
       "      <td>3</td>\n",
       "      <td>6</td>\n",
       "    </tr>\n",
       "    <tr>\n",
       "      <th>1</th>\n",
       "      <td>Duster 360</td>\n",
       "      <td>3</td>\n",
       "      <td>8</td>\n",
       "    </tr>\n",
       "    <tr>\n",
       "      <th>2</th>\n",
       "      <td>Merc 240D</td>\n",
       "      <td>4</td>\n",
       "      <td>4</td>\n",
       "    </tr>\n",
       "    <tr>\n",
       "      <th>3</th>\n",
       "      <td>Merc 230D</td>\n",
       "      <td>4</td>\n",
       "      <td>4</td>\n",
       "    </tr>\n",
       "    <tr>\n",
       "      <th>4</th>\n",
       "      <td>Merc 280D</td>\n",
       "      <td>5</td>\n",
       "      <td>6</td>\n",
       "    </tr>\n",
       "    <tr>\n",
       "      <th>5</th>\n",
       "      <td>Merc 450SE</td>\n",
       "      <td>4</td>\n",
       "      <td>6</td>\n",
       "    </tr>\n",
       "    <tr>\n",
       "      <th>6</th>\n",
       "      <td>Merc 450SL</td>\n",
       "      <td>3</td>\n",
       "      <td>8</td>\n",
       "    </tr>\n",
       "    <tr>\n",
       "      <th>7</th>\n",
       "      <td>Merc 450SLC</td>\n",
       "      <td>3</td>\n",
       "      <td>8</td>\n",
       "    </tr>\n",
       "    <tr>\n",
       "      <th>8</th>\n",
       "      <td>Cadillac Fleetwood</td>\n",
       "      <td>3</td>\n",
       "      <td>8</td>\n",
       "    </tr>\n",
       "    <tr>\n",
       "      <th>9</th>\n",
       "      <td>Lincoln continental</td>\n",
       "      <td>3</td>\n",
       "      <td>8</td>\n",
       "    </tr>\n",
       "    <tr>\n",
       "      <th>10</th>\n",
       "      <td>Chrysler Imperial</td>\n",
       "      <td>3</td>\n",
       "      <td>8</td>\n",
       "    </tr>\n",
       "    <tr>\n",
       "      <th>11</th>\n",
       "      <td>Fiat 128</td>\n",
       "      <td>4</td>\n",
       "      <td>4</td>\n",
       "    </tr>\n",
       "    <tr>\n",
       "      <th>12</th>\n",
       "      <td>Honda Civic</td>\n",
       "      <td>4</td>\n",
       "      <td>4</td>\n",
       "    </tr>\n",
       "    <tr>\n",
       "      <th>13</th>\n",
       "      <td>Toyota Coralla</td>\n",
       "      <td>4</td>\n",
       "      <td>4</td>\n",
       "    </tr>\n",
       "  </tbody>\n",
       "</table>\n",
       "</div>"
      ],
      "text/plain": [
       "                  Model  Gear  Cylinder\n",
       "0               Valiant     3         6\n",
       "1            Duster 360     3         8\n",
       "2             Merc 240D     4         4\n",
       "3             Merc 230D     4         4\n",
       "4             Merc 280D     5         6\n",
       "5            Merc 450SE     4         6\n",
       "6            Merc 450SL     3         8\n",
       "7           Merc 450SLC     3         8\n",
       "8    Cadillac Fleetwood     3         8\n",
       "9   Lincoln continental     3         8\n",
       "10    Chrysler Imperial     3         8\n",
       "11             Fiat 128     4         4\n",
       "12          Honda Civic     4         4\n",
       "13       Toyota Coralla     4         4"
      ]
     },
     "execution_count": 9,
     "metadata": {},
     "output_type": "execute_result"
    }
   ],
   "source": [
    "import pandas as pd\n",
    "\n",
    "car_data = {'Model': ['Valiant','Duster 360','Merc 240D','Merc 230D','Merc 280D','Merc 450SE','Merc 450SL','Merc 450SLC',\n",
    "                          'Cadillac Fleetwood','Lincoln continental','Chrysler Imperial',\n",
    "                          'Fiat 128','Honda Civic','Toyota Coralla'],\n",
    "           'Gear':[3,3,4,4,5,4,3,3,3,3,3,4,4,4],\n",
    "           'Cylinder':[6,8,4,4,6,6,8,8,8,8,8,4,4,4]}\n",
    "car_df = pd.DataFrame(car_data)\n",
    "car_df"
   ]
  },
  {
   "cell_type": "code",
   "execution_count": 11,
   "id": "a74f2f30",
   "metadata": {},
   "outputs": [
    {
     "name": "stdout",
     "output_type": "stream",
     "text": [
      "[3 4 5]\n",
      "[6 8 4]\n",
      "['Valiant' 'Duster 360' 'Merc 240D' 'Merc 230D' 'Merc 280D' 'Merc 450SE'\n",
      " 'Merc 450SL' 'Merc 450SLC' 'Cadillac Fleetwood' 'Lincoln continental'\n",
      " 'Chrysler Imperial' 'Fiat 128' 'Honda Civic' 'Toyota Coralla']\n"
     ]
    }
   ],
   "source": [
    "unique_gear = pd.unique(car_df.Gear) #selecting the unique elements from the column\n",
    "unique_cylinder = pd.unique(car_df.Cylinder)\n",
    "unique_name = pd.unique(car_df.Model)\n",
    "print(unique_gear)\n",
    "print(unique_cylinder)\n",
    "print(unique_name)"
   ]
  },
  {
   "cell_type": "code",
   "execution_count": 14,
   "id": "1b1c3dc4",
   "metadata": {},
   "outputs": [
    {
     "name": "stdout",
     "output_type": "stream",
     "text": [
      "3    7\n",
      "4    6\n",
      "5    1\n",
      "Name: Gear, dtype: int64\n",
      "8    6\n",
      "4    5\n",
      "6    3\n",
      "Name: Cylinder, dtype: int64\n",
      "3    7\n",
      "4    6\n",
      "5    1\n",
      "Name: Gear, dtype: int64\n",
      "8    6\n",
      "4    5\n",
      "6    3\n",
      "Name: Cylinder, dtype: int64\n"
     ]
    }
   ],
   "source": [
    "gear_count = pd.value_counts(car_df.Gear)\n",
    "cyl_count = pd.value_counts(car_df.Cylinder)\n",
    "g_count = car_df['Gear'].value_counts()     #Both are the Same\n",
    "c_count = car_df['Cylinder'].value_counts() #Both are the Same\n",
    "print(gear_count)\n",
    "print(cyl_count)\n",
    "print(g_count)\n",
    "print(c_count)"
   ]
  },
  {
   "cell_type": "code",
   "execution_count": 16,
   "id": "6dcf4944",
   "metadata": {},
   "outputs": [
    {
     "name": "stdout",
     "output_type": "stream",
     "text": [
      "Name_Unique =  14\n",
      "Gear_Unique =  3\n",
      "Cylinder_Unique =  3\n"
     ]
    }
   ],
   "source": [
    "name_count = pd.unique(car_df.Model)\n",
    "gear_count = pd.unique(car_df.Gear)\n",
    "cylinder_count = pd.unique(car_df.Cylinder)\n",
    "\n",
    "name_unique = len(name_count)\n",
    "gear_unique = len(gear_count)\n",
    "cylinder_unique = len(cylinder_count)\n",
    "\n",
    "# for item in name_count:\n",
    "#     name_unique+=1\n",
    "\n",
    "# for item in gear_count:\n",
    "#     gear_unique+=1\n",
    "    \n",
    "# for item in cylinder_count:\n",
    "#     cylinder_unique+=1\n",
    "    \n",
    "print('Name_Unique = ',name_unique)\n",
    "print('Gear_Unique = ',gear_unique)\n",
    "print('Cylinder_Unique = ',cylinder_unique)\n"
   ]
  },
  {
   "cell_type": "code",
   "execution_count": null,
   "id": "75c81f8b",
   "metadata": {},
   "outputs": [],
   "source": []
  }
 ],
 "metadata": {
  "kernelspec": {
   "display_name": "Python 3 (ipykernel)",
   "language": "python",
   "name": "python3"
  },
  "language_info": {
   "codemirror_mode": {
    "name": "ipython",
    "version": 3
   },
   "file_extension": ".py",
   "mimetype": "text/x-python",
   "name": "python",
   "nbconvert_exporter": "python",
   "pygments_lexer": "ipython3",
   "version": "3.9.12"
  }
 },
 "nbformat": 4,
 "nbformat_minor": 5
}
