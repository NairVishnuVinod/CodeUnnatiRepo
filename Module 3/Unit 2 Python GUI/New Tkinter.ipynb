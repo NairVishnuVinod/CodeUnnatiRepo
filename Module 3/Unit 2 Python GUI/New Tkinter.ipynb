{
 "cells": [
  {
   "cell_type": "code",
   "execution_count": 1,
   "id": "a6f10008",
   "metadata": {},
   "outputs": [],
   "source": [
    "from tkinter import *\n",
    "import ttk\n",
    "from tkinter.ttk import *"
   ]
  },
  {
   "cell_type": "code",
   "execution_count": 8,
   "id": "aff98d08",
   "metadata": {},
   "outputs": [],
   "source": [
    "window = Tk()\n",
    "window.title(\"Welcome to Python Tkinter\")\n",
    "window.configure(bg=\"green\")\n",
    "window.geometry('1000x700')\n",
    "\n",
    "label = Label(window,text = 'Hello, ',font=(\"Helvetica 15\"))\n",
    "\n",
    "label.grid(column=0,row=0)\n",
    "\n",
    "txt = Entry(window, width=50)\n",
    "txt.grid(column=50,row=1)\n",
    "\n",
    "\n",
    "\n",
    "def clicked():\n",
    "    name = \"Welcome \" + txt.get()\n",
    "    \n",
    "    label.configure(text= name)\n",
    "    \n",
    "\n",
    "btn = Button(window,text=\"Click Me\",command=clicked)\n",
    "\n",
    "btn.grid(column=100,row=50)\n",
    "\n",
    "def clicked():\n",
    "    label.configure(text=\"After, Button was clicked !!,We have seen the change\")\n",
    "    \n",
    "window.mainloop()"
   ]
  },
  {
   "cell_type": "code",
   "execution_count": null,
   "id": "c6309cb5",
   "metadata": {},
   "outputs": [],
   "source": []
  }
 ],
 "metadata": {
  "kernelspec": {
   "display_name": "Python 3 (ipykernel)",
   "language": "python",
   "name": "python3"
  },
  "language_info": {
   "codemirror_mode": {
    "name": "ipython",
    "version": 3
   },
   "file_extension": ".py",
   "mimetype": "text/x-python",
   "name": "python",
   "nbconvert_exporter": "python",
   "pygments_lexer": "ipython3",
   "version": "3.9.12"
  }
 },
 "nbformat": 4,
 "nbformat_minor": 5
}
